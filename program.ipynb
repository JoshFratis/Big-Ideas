{
 "cells": [
  {
   "cell_type": "code",
   "execution_count": null,
   "metadata": {},
   "outputs": [],
   "source": [
    "print(\"Stop. Who would cross the Bridge of Death must answer me these questions three, ere the other side he see.\")\n",
    "name = input(\"What is your name? \")\n",
    "quest = input(\"What is your quest? \")\n",
    "capital = input(\"What is the capital of Assyria? \")\n",
    "if (capital == 'Assur'):\n",
    "    print(\"On you go!\")\n",
    "else: \n",
    "    print(\"Begone!\")"
   ]
  }
 ],
 "metadata": {
  "language_info": {
   "name": "python"
  },
  "orig_nbformat": 4
 },
 "nbformat": 4,
 "nbformat_minor": 2
}
